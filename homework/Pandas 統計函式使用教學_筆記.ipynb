{
 "cells": [
  {
   "cell_type": "markdown",
   "metadata": {},
   "source": [
    "# 重要知識點"
   ]
  },
  {
   "cell_type": "markdown",
   "metadata": {},
   "source": [
    "● 應用統計函式<br>\n",
    "● 自定義的行或列函式應用"
   ]
  },
  {
   "cell_type": "markdown",
   "metadata": {},
   "source": [
    "# 統計函式"
   ]
  },
  {
   "cell_type": "markdown",
   "metadata": {},
   "source": [
    "在生活中常聽到以下情況:\n",
    "1. 台灣平均薪資為 XXX\n",
    "2. 今年指考最高分為 XXX\n",
    "3. 今年台大最低入取分數為 XXX\n",
    "4. 6個標準差的良率\n",
    "\n",
    "因為數據很多的情況下時常使用敘述統計量來描述數據的分布與統計量, 在資料分析中常拿來對資料做初步的了解,。<br>\n",
    "接下來我們以 pandas 的 DataFrame 資料來做統計函式的介紹。"
   ]
  },
  {
   "cell_type": "markdown",
   "metadata": {},
   "source": [
    "# 統計函式: 平均值 mean()"
   ]
  },
  {
   "cell_type": "markdown",
   "metadata": {},
   "source": [
    "今天都以班上學生國文、英文、數學分數的資料(右表)為例子介紹各個統計函數。<br>\n",
    "首先是最常使用到的平均值 mean() , pandas 可針對指定欄位算平均值, 如果沒指定會對全部欄位算平均值。"
   ]
  },
  {
   "cell_type": "code",
   "execution_count": 1,
   "metadata": {},
   "outputs": [],
   "source": [
    "import pandas as pd"
   ]
  },
  {
   "cell_type": "code",
   "execution_count": 2,
   "metadata": {},
   "outputs": [
    {
     "data": {
      "text/html": [
       "<div>\n",
       "<style scoped>\n",
       "    .dataframe tbody tr th:only-of-type {\n",
       "        vertical-align: middle;\n",
       "    }\n",
       "\n",
       "    .dataframe tbody tr th {\n",
       "        vertical-align: top;\n",
       "    }\n",
       "\n",
       "    .dataframe thead th {\n",
       "        text-align: right;\n",
       "    }\n",
       "</style>\n",
       "<table border=\"1\" class=\"dataframe\">\n",
       "  <thead>\n",
       "    <tr style=\"text-align: right;\">\n",
       "      <th></th>\n",
       "      <th>math_score</th>\n",
       "      <th>english_score</th>\n",
       "      <th>chinese_score</th>\n",
       "    </tr>\n",
       "    <tr>\n",
       "      <th>student_id</th>\n",
       "      <th></th>\n",
       "      <th></th>\n",
       "      <th></th>\n",
       "    </tr>\n",
       "  </thead>\n",
       "  <tbody>\n",
       "    <tr>\n",
       "      <th>1</th>\n",
       "      <td>50</td>\n",
       "      <td>80</td>\n",
       "      <td>70</td>\n",
       "    </tr>\n",
       "    <tr>\n",
       "      <th>2</th>\n",
       "      <td>60</td>\n",
       "      <td>45</td>\n",
       "      <td>50</td>\n",
       "    </tr>\n",
       "    <tr>\n",
       "      <th>3</th>\n",
       "      <td>98</td>\n",
       "      <td>43</td>\n",
       "      <td>55</td>\n",
       "    </tr>\n",
       "    <tr>\n",
       "      <th>4</th>\n",
       "      <td>70</td>\n",
       "      <td>69</td>\n",
       "      <td>89</td>\n",
       "    </tr>\n",
       "    <tr>\n",
       "      <th>5</th>\n",
       "      <td>56</td>\n",
       "      <td>79</td>\n",
       "      <td>60</td>\n",
       "    </tr>\n",
       "    <tr>\n",
       "      <th>6</th>\n",
       "      <td>60</td>\n",
       "      <td>68</td>\n",
       "      <td>55</td>\n",
       "    </tr>\n",
       "    <tr>\n",
       "      <th>7</th>\n",
       "      <td>45</td>\n",
       "      <td>70</td>\n",
       "      <td>77</td>\n",
       "    </tr>\n",
       "    <tr>\n",
       "      <th>8</th>\n",
       "      <td>55</td>\n",
       "      <td>77</td>\n",
       "      <td>76</td>\n",
       "    </tr>\n",
       "    <tr>\n",
       "      <th>9</th>\n",
       "      <td>25</td>\n",
       "      <td>57</td>\n",
       "      <td>60</td>\n",
       "    </tr>\n",
       "    <tr>\n",
       "      <th>10</th>\n",
       "      <td>88</td>\n",
       "      <td>40</td>\n",
       "      <td>43</td>\n",
       "    </tr>\n",
       "  </tbody>\n",
       "</table>\n",
       "</div>"
      ],
      "text/plain": [
       "            math_score  english_score  chinese_score\n",
       "student_id                                          \n",
       "1                   50             80             70\n",
       "2                   60             45             50\n",
       "3                   98             43             55\n",
       "4                   70             69             89\n",
       "5                   56             79             60\n",
       "6                   60             68             55\n",
       "7                   45             70             77\n",
       "8                   55             77             76\n",
       "9                   25             57             60\n",
       "10                  88             40             43"
      ]
     },
     "execution_count": 2,
     "metadata": {},
     "output_type": "execute_result"
    }
   ],
   "source": [
    "score_df = pd.DataFrame([[1,50,80,70], \n",
    "              [2,60,45,50],\n",
    "              [3,98,43,55],\n",
    "              [4,70,69,89],\n",
    "              [5,56,79,60],\n",
    "              [6,60,68,55],\n",
    "              [7,45,70,77],\n",
    "              [8,55,77,76],\n",
    "              [9,25,57,60],\n",
    "              [10,88,40,43]],columns=['student_id','math_score','english_score','chinese_score'])\n",
    "score_df = score_df.set_index('student_id')\n",
    "score_df"
   ]
  },
  {
   "cell_type": "code",
   "execution_count": 3,
   "metadata": {},
   "outputs": [
    {
     "data": {
      "text/plain": [
       "60.7"
      ]
     },
     "execution_count": 3,
     "metadata": {},
     "output_type": "execute_result"
    }
   ],
   "source": [
    "# 指定欄位算平均\n",
    "score_df.math_score.mean()"
   ]
  },
  {
   "cell_type": "code",
   "execution_count": 4,
   "metadata": {},
   "outputs": [
    {
     "data": {
      "text/plain": [
       "math_score       60.7\n",
       "english_score    62.8\n",
       "chinese_score    63.5\n",
       "dtype: float64"
      ]
     },
     "execution_count": 4,
     "metadata": {},
     "output_type": "execute_result"
    }
   ],
   "source": [
    "# 全欄位算平均\n",
    "score_df.mean()"
   ]
  },
  {
   "cell_type": "code",
   "execution_count": 5,
   "metadata": {},
   "outputs": [
    {
     "data": {
      "text/html": [
       "<div>\n",
       "<style scoped>\n",
       "    .dataframe tbody tr th:only-of-type {\n",
       "        vertical-align: middle;\n",
       "    }\n",
       "\n",
       "    .dataframe tbody tr th {\n",
       "        vertical-align: top;\n",
       "    }\n",
       "\n",
       "    .dataframe thead th {\n",
       "        text-align: right;\n",
       "    }\n",
       "</style>\n",
       "<table border=\"1\" class=\"dataframe\">\n",
       "  <thead>\n",
       "    <tr style=\"text-align: right;\">\n",
       "      <th></th>\n",
       "      <th>math_score</th>\n",
       "      <th>english_score</th>\n",
       "      <th>chinese_score</th>\n",
       "    </tr>\n",
       "    <tr>\n",
       "      <th>student_id</th>\n",
       "      <th></th>\n",
       "      <th></th>\n",
       "      <th></th>\n",
       "    </tr>\n",
       "  </thead>\n",
       "  <tbody>\n",
       "    <tr>\n",
       "      <th>1</th>\n",
       "      <td>50</td>\n",
       "      <td>80</td>\n",
       "      <td>70</td>\n",
       "    </tr>\n",
       "    <tr>\n",
       "      <th>2</th>\n",
       "      <td>60</td>\n",
       "      <td>45</td>\n",
       "      <td>50</td>\n",
       "    </tr>\n",
       "    <tr>\n",
       "      <th>3</th>\n",
       "      <td>98</td>\n",
       "      <td>43</td>\n",
       "      <td>55</td>\n",
       "    </tr>\n",
       "    <tr>\n",
       "      <th>4</th>\n",
       "      <td>70</td>\n",
       "      <td>69</td>\n",
       "      <td>89</td>\n",
       "    </tr>\n",
       "    <tr>\n",
       "      <th>5</th>\n",
       "      <td>56</td>\n",
       "      <td>79</td>\n",
       "      <td>60</td>\n",
       "    </tr>\n",
       "    <tr>\n",
       "      <th>6</th>\n",
       "      <td>60</td>\n",
       "      <td>68</td>\n",
       "      <td>55</td>\n",
       "    </tr>\n",
       "    <tr>\n",
       "      <th>7</th>\n",
       "      <td>45</td>\n",
       "      <td>70</td>\n",
       "      <td>77</td>\n",
       "    </tr>\n",
       "    <tr>\n",
       "      <th>8</th>\n",
       "      <td>55</td>\n",
       "      <td>77</td>\n",
       "      <td>76</td>\n",
       "    </tr>\n",
       "    <tr>\n",
       "      <th>9</th>\n",
       "      <td>25</td>\n",
       "      <td>57</td>\n",
       "      <td>60</td>\n",
       "    </tr>\n",
       "    <tr>\n",
       "      <th>10</th>\n",
       "      <td>88</td>\n",
       "      <td>40</td>\n",
       "      <td>43</td>\n",
       "    </tr>\n",
       "  </tbody>\n",
       "</table>\n",
       "</div>"
      ],
      "text/plain": [
       "            math_score  english_score  chinese_score\n",
       "student_id                                          \n",
       "1                   50             80             70\n",
       "2                   60             45             50\n",
       "3                   98             43             55\n",
       "4                   70             69             89\n",
       "5                   56             79             60\n",
       "6                   60             68             55\n",
       "7                   45             70             77\n",
       "8                   55             77             76\n",
       "9                   25             57             60\n",
       "10                  88             40             43"
      ]
     },
     "execution_count": 5,
     "metadata": {},
     "output_type": "execute_result"
    }
   ],
   "source": [
    "score_df"
   ]
  },
  {
   "cell_type": "markdown",
   "metadata": {},
   "source": [
    "如果今天想要算每個學生的總平均分數怎麼辦?<br>\n",
    "Pandas 統計函式中有參數 axis = 0 為行運算, axis = 1 為列運算, 此參數適用在之後介紹的統計函式。"
   ]
  },
  {
   "cell_type": "code",
   "execution_count": 6,
   "metadata": {},
   "outputs": [
    {
     "data": {
      "text/plain": [
       "student_id\n",
       "1     66.666667\n",
       "2     51.666667\n",
       "3     65.333333\n",
       "4     76.000000\n",
       "5     65.000000\n",
       "6     61.000000\n",
       "7     64.000000\n",
       "8     69.333333\n",
       "9     47.333333\n",
       "10    57.000000\n",
       "dtype: float64"
      ]
     },
     "execution_count": 6,
     "metadata": {},
     "output_type": "execute_result"
    }
   ],
   "source": [
    "# 學生平均分數\n",
    "score_df.mean(axis = 1)"
   ]
  },
  {
   "cell_type": "markdown",
   "metadata": {},
   "source": [
    "# 統計函式: 加總 sum(), 個數 count()\n",
    "加總: 計算總合, 時常用在計算家庭開銷。<br>\n",
    "各數: 計算各數, 時常用在出遊時的點名。<br>\n",
    "\n",
    "以下利用加總算出學生 3 科總分, 利用個數計算出應考人數。"
   ]
  },
  {
   "cell_type": "code",
   "execution_count": 7,
   "metadata": {},
   "outputs": [
    {
     "data": {
      "text/plain": [
       "student_id\n",
       "1     200\n",
       "2     155\n",
       "3     196\n",
       "4     228\n",
       "5     195\n",
       "6     183\n",
       "7     192\n",
       "8     208\n",
       "9     142\n",
       "10    171\n",
       "dtype: int64"
      ]
     },
     "execution_count": 7,
     "metadata": {},
     "output_type": "execute_result"
    }
   ],
   "source": [
    "# 學生 3 科總分數\n",
    "score_df.sum(axis = 1)"
   ]
  },
  {
   "cell_type": "code",
   "execution_count": 8,
   "metadata": {},
   "outputs": [
    {
     "data": {
      "text/plain": [
       "math_score       10\n",
       "english_score    10\n",
       "chinese_score    10\n",
       "dtype: int64"
      ]
     },
     "execution_count": 8,
     "metadata": {},
     "output_type": "execute_result"
    }
   ],
   "source": [
    "# 本次各科考試人數\n",
    "score_df.count()"
   ]
  },
  {
   "cell_type": "markdown",
   "metadata": {},
   "source": [
    "# 統計函式: 中位數 median()"
   ]
  },
  {
   "cell_type": "markdown",
   "metadata": {},
   "source": [
    "中位數通常使用在有否贏過 50% 的數據, 假如薪資中位數為 4 萬, 超過 4 萬即為贏過 50% 的人, 反之亦然。<br>\n",
    "中位數: 通過把所有觀察值高低排序後找出正中間的一個做為中位數。<br>\n",
    "如果觀察值有偶數個, 則中位數不唯一, 通常取最中間的兩個數值的平均數做為中位數。<br>\n",
    "\n",
    "以利用中位數算出各科中位數, 如果今天數學考了 60 分超過了中位數的 58 分, 我就可以說我數學贏過了全班一半的同學。"
   ]
  },
  {
   "cell_type": "code",
   "execution_count": 9,
   "metadata": {},
   "outputs": [
    {
     "data": {
      "text/plain": [
       "math_score       58.0\n",
       "english_score    68.5\n",
       "chinese_score    60.0\n",
       "dtype: float64"
      ]
     },
     "execution_count": 9,
     "metadata": {},
     "output_type": "execute_result"
    }
   ],
   "source": [
    "# 各科中位數分佈\n",
    "score_df.median()"
   ]
  },
  {
   "cell_type": "markdown",
   "metadata": {},
   "source": [
    "# 統計函式: 百分位數 quantile()"
   ]
  },
  {
   "cell_type": "markdown",
   "metadata": {},
   "source": [
    "百分位數使用在觀察數據百分比, 最常運用到的是升學分數的百分位數。\n",
    "百分位數: 將一組數據從小到大排序, 並計算相應的累計百分位, 則某一百分位所對應數據的值就稱為這一百分位的百分位數。<br>\n",
    "如果百分位數設定在 50% 即為中位數。<br>\n",
    "\n",
    "以下計算 75 % 的百分位數, 如果我今天國文分數為 75 分, 我可以說我的國文贏過班上 75 % 的同學。"
   ]
  },
  {
   "cell_type": "code",
   "execution_count": 11,
   "metadata": {},
   "outputs": [
    {
     "data": {
      "text/plain": [
       "math_score       67.50\n",
       "english_score    75.25\n",
       "chinese_score    74.50\n",
       "Name: 0.75, dtype: float64"
      ]
     },
     "execution_count": 11,
     "metadata": {},
     "output_type": "execute_result"
    }
   ],
   "source": [
    "# 各科百分位數的分佈(75%)\n",
    "score_df.quantile(0.75)"
   ]
  },
  {
   "cell_type": "markdown",
   "metadata": {},
   "source": [
    "# 統計函式: 最大值 max()、最小值 min()"
   ]
  },
  {
   "cell_type": "markdown",
   "metadata": {},
   "source": [
    "最大最小值時常拿來觀察極端值, 也可以檢視資料的資料最小與最大分佈。<br>\n",
    "其中最小值常常拿來當通過門檻, 例如: 大學入取分數最低幾分。\n",
    "<br>\n",
    "以下計算全班各科最高與最低分:"
   ]
  },
  {
   "cell_type": "code",
   "execution_count": 12,
   "metadata": {},
   "outputs": [
    {
     "data": {
      "text/plain": [
       "math_score       98\n",
       "english_score    80\n",
       "chinese_score    89\n",
       "dtype: int64"
      ]
     },
     "execution_count": 12,
     "metadata": {},
     "output_type": "execute_result"
    }
   ],
   "source": [
    "# 各科最大值\n",
    "score_df.max()"
   ]
  },
  {
   "cell_type": "code",
   "execution_count": 13,
   "metadata": {},
   "outputs": [
    {
     "data": {
      "text/plain": [
       "math_score       25\n",
       "english_score    40\n",
       "chinese_score    43\n",
       "dtype: int64"
      ]
     },
     "execution_count": 13,
     "metadata": {},
     "output_type": "execute_result"
    }
   ],
   "source": [
    "# 各科最小值\n",
    "score_df.min()"
   ]
  },
  {
   "cell_type": "markdown",
   "metadata": {},
   "source": [
    "# 統計函式: 標準差 std(), 變異數 var()"
   ]
  },
  {
   "cell_type": "markdown",
   "metadata": {},
   "source": [
    "標準差: 在機率統計中最常使用作為測量一組數值的離散程度之用。<br>\n",
    "一個較大的標準差, 代表大部分的數值和其平均之間差異較大; 一個較小的標準差, 代表這些數值較接近平均值。<br>\n",
    "變異數: 為標準差平方<br>\n",
    "\n",
    "以下計算出標準差, 可以發現國文分數標準差比數學分數標準差來的小, 所以國文的分散程度比較小, 也可以說國文分數較為集中。"
   ]
  },
  {
   "cell_type": "code",
   "execution_count": 14,
   "metadata": {},
   "outputs": [
    {
     "data": {
      "text/plain": [
       "math_score       20.854256\n",
       "english_score    15.418603\n",
       "chinese_score    14.151953\n",
       "dtype: float64"
      ]
     },
     "execution_count": 14,
     "metadata": {},
     "output_type": "execute_result"
    }
   ],
   "source": [
    "# 各科標準差\n",
    "score_df.std()"
   ]
  },
  {
   "cell_type": "code",
   "execution_count": 15,
   "metadata": {},
   "outputs": [
    {
     "data": {
      "text/plain": [
       "math_score       434.900000\n",
       "english_score    237.733333\n",
       "chinese_score    200.277778\n",
       "dtype: float64"
      ]
     },
     "execution_count": 15,
     "metadata": {},
     "output_type": "execute_result"
    }
   ],
   "source": [
    "# 各科變異數\n",
    "score_df.var()"
   ]
  },
  {
   "cell_type": "markdown",
   "metadata": {},
   "source": [
    "# 統計函式: 相關系數 corr()"
   ]
  },
  {
   "cell_type": "markdown",
   "metadata": {},
   "source": [
    "相關係數: 皮爾遜積矩相關系數 (Pearson product-moment correlation coefficient) 用於度量兩個變數 X 和 Y 之間的相關程度 (線性相依)。<br>\n",
    "在自然科學領域中, 該系數廣泛用於度量兩個變數之間的線性相依程度。<br>\n",
    "相關係數的值介於 -1 和 +1 之間，即 -1 <= r <= +1。 其性質如下:\n",
    "1. 當 r > 0 時，表示兩變數正相關, r < 0 時, 兩變數為負相關, r = 0 時, 表示兩變數之間無線性相關關係。\n",
    "2. 一般可按三級劃分: |r| < 0.4 為低度線性相關; \n",
    "                0.4 <= |r| <= 0.7 為顯著性相關; \n",
    "                0.7 <= |r| < 1 為高度線性相關"
   ]
  },
  {
   "cell_type": "markdown",
   "metadata": {},
   "source": [
    "可以發現說英文相對數學相關系數為 -0.53, 可以解釋說英文跟數學有負的高度線性相關, 可以說明此班學生數學越高分英文越低分,<br>\n",
    "另外國文相對英文相關系數為 0.68 為正向高度相關, 說明此班學生英文越高國文越高分。"
   ]
  },
  {
   "cell_type": "code",
   "execution_count": 16,
   "metadata": {},
   "outputs": [
    {
     "data": {
      "text/html": [
       "<div>\n",
       "<style scoped>\n",
       "    .dataframe tbody tr th:only-of-type {\n",
       "        vertical-align: middle;\n",
       "    }\n",
       "\n",
       "    .dataframe tbody tr th {\n",
       "        vertical-align: top;\n",
       "    }\n",
       "\n",
       "    .dataframe thead th {\n",
       "        text-align: right;\n",
       "    }\n",
       "</style>\n",
       "<table border=\"1\" class=\"dataframe\">\n",
       "  <thead>\n",
       "    <tr style=\"text-align: right;\">\n",
       "      <th></th>\n",
       "      <th>math_score</th>\n",
       "      <th>english_score</th>\n",
       "      <th>chinese_score</th>\n",
       "    </tr>\n",
       "  </thead>\n",
       "  <tbody>\n",
       "    <tr>\n",
       "      <th>math_score</th>\n",
       "      <td>1.000000</td>\n",
       "      <td>-0.532708</td>\n",
       "      <td>-0.314552</td>\n",
       "    </tr>\n",
       "    <tr>\n",
       "      <th>english_score</th>\n",
       "      <td>-0.532708</td>\n",
       "      <td>1.000000</td>\n",
       "      <td>0.682340</td>\n",
       "    </tr>\n",
       "    <tr>\n",
       "      <th>chinese_score</th>\n",
       "      <td>-0.314552</td>\n",
       "      <td>0.682340</td>\n",
       "      <td>1.000000</td>\n",
       "    </tr>\n",
       "  </tbody>\n",
       "</table>\n",
       "</div>"
      ],
      "text/plain": [
       "               math_score  english_score  chinese_score\n",
       "math_score       1.000000      -0.532708      -0.314552\n",
       "english_score   -0.532708       1.000000       0.682340\n",
       "chinese_score   -0.314552       0.682340       1.000000"
      ]
     },
     "execution_count": 16,
     "metadata": {},
     "output_type": "execute_result"
    }
   ],
   "source": [
    "# 各科之間的相關系數\n",
    "score_df.corr()"
   ]
  },
  {
   "cell_type": "markdown",
   "metadata": {},
   "source": [
    "# 自定義的行或列函式應用 apply()"
   ]
  },
  {
   "cell_type": "markdown",
   "metadata": {},
   "source": [
    "你有時候可能會覺得說前面的統計函式不足以表達資料的特性, 此時你可以使用 apply 做自定義的函式。<br>\n",
    "\n",
    "像是學校最常使用的加分方式為開根號乘以十, 例如:<br>\n",
    "我考 49 分加分後 49(開根號) X 10 = 70, 這種方乘式沒辦法在統計函式中算出來, 需要藉由 apply 中 lamba 的函式達成。<br>\n",
    "\n",
    "其中 lambda x 相當於數學式中的 f(x) = x(根號) x 10"
   ]
  },
  {
   "cell_type": "code",
   "execution_count": 17,
   "metadata": {},
   "outputs": [
    {
     "data": {
      "text/html": [
       "<div>\n",
       "<style scoped>\n",
       "    .dataframe tbody tr th:only-of-type {\n",
       "        vertical-align: middle;\n",
       "    }\n",
       "\n",
       "    .dataframe tbody tr th {\n",
       "        vertical-align: top;\n",
       "    }\n",
       "\n",
       "    .dataframe thead th {\n",
       "        text-align: right;\n",
       "    }\n",
       "</style>\n",
       "<table border=\"1\" class=\"dataframe\">\n",
       "  <thead>\n",
       "    <tr style=\"text-align: right;\">\n",
       "      <th></th>\n",
       "      <th>math_score</th>\n",
       "      <th>english_score</th>\n",
       "      <th>chinese_score</th>\n",
       "    </tr>\n",
       "    <tr>\n",
       "      <th>student_id</th>\n",
       "      <th></th>\n",
       "      <th></th>\n",
       "      <th></th>\n",
       "    </tr>\n",
       "  </thead>\n",
       "  <tbody>\n",
       "    <tr>\n",
       "      <th>1</th>\n",
       "      <td>70.710678</td>\n",
       "      <td>89.442719</td>\n",
       "      <td>83.666003</td>\n",
       "    </tr>\n",
       "    <tr>\n",
       "      <th>2</th>\n",
       "      <td>77.459667</td>\n",
       "      <td>67.082039</td>\n",
       "      <td>70.710678</td>\n",
       "    </tr>\n",
       "    <tr>\n",
       "      <th>3</th>\n",
       "      <td>98.994949</td>\n",
       "      <td>65.574385</td>\n",
       "      <td>74.161985</td>\n",
       "    </tr>\n",
       "    <tr>\n",
       "      <th>4</th>\n",
       "      <td>83.666003</td>\n",
       "      <td>83.066239</td>\n",
       "      <td>94.339811</td>\n",
       "    </tr>\n",
       "    <tr>\n",
       "      <th>5</th>\n",
       "      <td>74.833148</td>\n",
       "      <td>88.881944</td>\n",
       "      <td>77.459667</td>\n",
       "    </tr>\n",
       "    <tr>\n",
       "      <th>6</th>\n",
       "      <td>77.459667</td>\n",
       "      <td>82.462113</td>\n",
       "      <td>74.161985</td>\n",
       "    </tr>\n",
       "    <tr>\n",
       "      <th>7</th>\n",
       "      <td>67.082039</td>\n",
       "      <td>83.666003</td>\n",
       "      <td>87.749644</td>\n",
       "    </tr>\n",
       "    <tr>\n",
       "      <th>8</th>\n",
       "      <td>74.161985</td>\n",
       "      <td>87.749644</td>\n",
       "      <td>87.177979</td>\n",
       "    </tr>\n",
       "    <tr>\n",
       "      <th>9</th>\n",
       "      <td>50.000000</td>\n",
       "      <td>75.498344</td>\n",
       "      <td>77.459667</td>\n",
       "    </tr>\n",
       "    <tr>\n",
       "      <th>10</th>\n",
       "      <td>93.808315</td>\n",
       "      <td>63.245553</td>\n",
       "      <td>65.574385</td>\n",
       "    </tr>\n",
       "  </tbody>\n",
       "</table>\n",
       "</div>"
      ],
      "text/plain": [
       "            math_score  english_score  chinese_score\n",
       "student_id                                          \n",
       "1            70.710678      89.442719      83.666003\n",
       "2            77.459667      67.082039      70.710678\n",
       "3            98.994949      65.574385      74.161985\n",
       "4            83.666003      83.066239      94.339811\n",
       "5            74.833148      88.881944      77.459667\n",
       "6            77.459667      82.462113      74.161985\n",
       "7            67.082039      83.666003      87.749644\n",
       "8            74.161985      87.749644      87.177979\n",
       "9            50.000000      75.498344      77.459667\n",
       "10           93.808315      63.245553      65.574385"
      ]
     },
     "execution_count": 17,
     "metadata": {},
     "output_type": "execute_result"
    }
   ],
   "source": [
    "# 各科開根號乘以十\n",
    "score_df.apply(lambda x : x**(0.5)*10)"
   ]
  },
  {
   "cell_type": "markdown",
   "metadata": {},
   "source": [
    "apply 也適用先前統計函式, 可以用下列程式碼看兩個計算邏輯是等價的。"
   ]
  },
  {
   "cell_type": "code",
   "execution_count": 19,
   "metadata": {},
   "outputs": [
    {
     "data": {
      "text/plain": [
       "student_id\n",
       "1     200\n",
       "2     155\n",
       "3     196\n",
       "4     228\n",
       "5     195\n",
       "6     183\n",
       "7     192\n",
       "8     208\n",
       "9     142\n",
       "10    171\n",
       "dtype: int64"
      ]
     },
     "execution_count": 19,
     "metadata": {},
     "output_type": "execute_result"
    }
   ],
   "source": [
    "# 各科加總 apply\n",
    "score_df.apply(sum, axis = 1)"
   ]
  },
  {
   "cell_type": "code",
   "execution_count": 21,
   "metadata": {},
   "outputs": [
    {
     "data": {
      "text/plain": [
       "student_id\n",
       "1     200\n",
       "2     155\n",
       "3     196\n",
       "4     228\n",
       "5     195\n",
       "6     183\n",
       "7     192\n",
       "8     208\n",
       "9     142\n",
       "10    171\n",
       "dtype: int64"
      ]
     },
     "execution_count": 21,
     "metadata": {},
     "output_type": "execute_result"
    }
   ],
   "source": [
    "# 各科加總\n",
    "score_df.sum(axis = 1)"
   ]
  },
  {
   "cell_type": "code",
   "execution_count": null,
   "metadata": {},
   "outputs": [],
   "source": []
  }
 ],
 "metadata": {
  "kernelspec": {
   "display_name": "Python 3",
   "language": "python",
   "name": "python3"
  },
  "language_info": {
   "codemirror_mode": {
    "name": "ipython",
    "version": 3
   },
   "file_extension": ".py",
   "mimetype": "text/x-python",
   "name": "python",
   "nbconvert_exporter": "python",
   "pygments_lexer": "ipython3",
   "version": "3.7.6"
  }
 },
 "nbformat": 4,
 "nbformat_minor": 4
}
