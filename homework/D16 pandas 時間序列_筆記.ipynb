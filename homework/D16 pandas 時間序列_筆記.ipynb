{
 "cells": [
  {
   "cell_type": "markdown",
   "metadata": {},
   "source": [
    "# 重要知識點\n",
    "● 時間序列資料處理<br>\n",
    "● 日期時間處理"
   ]
  },
  {
   "cell_type": "markdown",
   "metadata": {},
   "source": [
    "# 時間序列資料處理\n",
    "● 所有資料中只要有時間關係就需要使用到時間序列的資料型態，因為資料之間是有時間關係的，資料之間的時間距離也不盡相同，例如右表，紅框內同樣差一個月，但是相差的天數不同<br>\n",
    "● 以每個月月底資料來檢視，這組資料並無缺值，但是以日資料來看，就缺了很多筆資料了<br>\n",
    "● 時間序列的資料非常注重時間的間隔"
   ]
  },
  {
   "cell_type": "markdown",
   "metadata": {},
   "source": [
    "範例目標:\n",
    "1. 實作時間序列操作\n",
    "2. 實作時間上的四則運算操作"
   ]
  },
  {
   "cell_type": "markdown",
   "metadata": {},
   "source": [
    "範例重點:\n",
    "1. 時間序列的資料非常注重時間的的間隔(年、月、日、時、分、秒)\n",
    "2. 時間也有分不同資料型態，在這邊使用 timestamps 的資料型態，須注意不同資料型態是不可以一起運算的。"
   ]
  },
  {
   "cell_type": "code",
   "execution_count": 2,
   "metadata": {},
   "outputs": [],
   "source": [
    "import pandas as pd\n",
    "import numpy as np"
   ]
  },
  {
   "cell_type": "code",
   "execution_count": 4,
   "metadata": {},
   "outputs": [
    {
     "data": {
      "text/plain": [
       "2020-01-31   -0.275307\n",
       "2020-02-29    1.113069\n",
       "2020-03-31   -1.703043\n",
       "2020-04-30   -0.875124\n",
       "2020-05-31    0.485793\n",
       "2020-06-30   -2.015748\n",
       "2020-07-31    0.150981\n",
       "2020-08-31    0.318921\n",
       "2020-09-30    0.357636\n",
       "2020-10-31   -0.957785\n",
       "Freq: M, dtype: float64"
      ]
     },
     "execution_count": 4,
     "metadata": {},
     "output_type": "execute_result"
    }
   ],
   "source": [
    "# 同樣差一個月，但是相差的天數不同\n",
    "# 所以時間序六的資料非常注重時間的間隔\n",
    "rng = pd.date_range('1/1/2020', periods = 10, freq = 'M')\n",
    "ts = pd.Series(np.random.randn(len(rng)), index = rng)\n",
    "ts"
   ]
  },
  {
   "cell_type": "markdown",
   "metadata": {},
   "source": [
    "既然時間間隔重要，那首先必須介紹控制時間長度的函數.to_period(), 參數 freq 代表時間頻率(Y:年、M:月、D:日、H:小時)"
   ]
  },
  {
   "cell_type": "code",
   "execution_count": 5,
   "metadata": {},
   "outputs": [
    {
     "data": {
      "text/plain": [
       "2020   -0.275307\n",
       "2020    1.113069\n",
       "2020   -1.703043\n",
       "2020   -0.875124\n",
       "2020    0.485793\n",
       "2020   -2.015748\n",
       "2020    0.150981\n",
       "2020    0.318921\n",
       "2020    0.357636\n",
       "2020   -0.957785\n",
       "Freq: A-DEC, dtype: float64"
      ]
     },
     "execution_count": 5,
     "metadata": {},
     "output_type": "execute_result"
    }
   ],
   "source": [
    "# 更改時間頻率:年\n",
    "ts.to_period(freq = 'Y')"
   ]
  },
  {
   "cell_type": "code",
   "execution_count": 6,
   "metadata": {},
   "outputs": [
    {
     "data": {
      "text/plain": [
       "2020-01   -0.275307\n",
       "2020-02    1.113069\n",
       "2020-03   -1.703043\n",
       "2020-04   -0.875124\n",
       "2020-05    0.485793\n",
       "2020-06   -2.015748\n",
       "2020-07    0.150981\n",
       "2020-08    0.318921\n",
       "2020-09    0.357636\n",
       "2020-10   -0.957785\n",
       "Freq: M, dtype: float64"
      ]
     },
     "execution_count": 6,
     "metadata": {},
     "output_type": "execute_result"
    }
   ],
   "source": [
    "# 更改時間頻率:月\n",
    "ts.to_period(freq = \"M\")"
   ]
  },
  {
   "cell_type": "code",
   "execution_count": 7,
   "metadata": {},
   "outputs": [
    {
     "data": {
      "text/plain": [
       "2020-01-31   -0.275307\n",
       "2020-02-29    1.113069\n",
       "2020-03-31   -1.703043\n",
       "2020-04-30   -0.875124\n",
       "2020-05-31    0.485793\n",
       "2020-06-30   -2.015748\n",
       "2020-07-31    0.150981\n",
       "2020-08-31    0.318921\n",
       "2020-09-30    0.357636\n",
       "2020-10-31   -0.957785\n",
       "Freq: D, dtype: float64"
      ]
     },
     "execution_count": 7,
     "metadata": {},
     "output_type": "execute_result"
    }
   ],
   "source": [
    "# 更改時間頻率: 月\n",
    "ts.to_period(freq = \"D\")"
   ]
  },
  {
   "cell_type": "code",
   "execution_count": 8,
   "metadata": {},
   "outputs": [
    {
     "data": {
      "text/plain": [
       "2020-01-31 00:00   -0.275307\n",
       "2020-02-29 00:00    1.113069\n",
       "2020-03-31 00:00   -1.703043\n",
       "2020-04-30 00:00   -0.875124\n",
       "2020-05-31 00:00    0.485793\n",
       "2020-06-30 00:00   -2.015748\n",
       "2020-07-31 00:00    0.150981\n",
       "2020-08-31 00:00    0.318921\n",
       "2020-09-30 00:00    0.357636\n",
       "2020-10-31 00:00   -0.957785\n",
       "Freq: H, dtype: float64"
      ]
     },
     "execution_count": 8,
     "metadata": {},
     "output_type": "execute_result"
    }
   ],
   "source": [
    "# 更改時間頻率: 日\n",
    "ts.to_period(freq = \"H\")"
   ]
  },
  {
   "cell_type": "markdown",
   "metadata": {},
   "source": [
    "更改時間頻率如果從年轉成季該怎麼做?<br>\n",
    "● 可以運用 resample 函數將年轉成季，如沒有值的填上 nan。"
   ]
  },
  {
   "cell_type": "code",
   "execution_count": 10,
   "metadata": {},
   "outputs": [
    {
     "data": {
      "text/plain": [
       "2018    1\n",
       "2019    2\n",
       "Freq: A-DEC, dtype: int64"
      ]
     },
     "execution_count": 10,
     "metadata": {},
     "output_type": "execute_result"
    }
   ],
   "source": [
    "s = pd.Series([1, 2], index = pd.period_range('2018-01-01', freq = 'Y', periods = 2))\n",
    "s"
   ]
  },
  {
   "cell_type": "code",
   "execution_count": 12,
   "metadata": {},
   "outputs": [
    {
     "data": {
      "text/plain": [
       "2018Q1    1.0\n",
       "2018Q2    NaN\n",
       "2018Q3    NaN\n",
       "2018Q4    NaN\n",
       "2019Q1    2.0\n",
       "2019Q2    NaN\n",
       "2019Q3    NaN\n",
       "2019Q4    NaN\n",
       "Freq: Q-DEC, dtype: float64"
      ]
     },
     "execution_count": 12,
     "metadata": {},
     "output_type": "execute_result"
    }
   ],
   "source": [
    "s.resample('Q', convention= 'start').asfreq()"
   ]
  },
  {
   "cell_type": "markdown",
   "metadata": {},
   "source": [
    "可以用先前學到的索引操作找到特定時間點的資料。"
   ]
  },
  {
   "cell_type": "code",
   "execution_count": 14,
   "metadata": {},
   "outputs": [
    {
     "data": {
      "text/plain": [
       "2020-01-31   -0.275307\n",
       "2020-02-29    1.113069\n",
       "2020-03-31   -1.703043\n",
       "2020-04-30   -0.875124\n",
       "2020-05-31    0.485793\n",
       "2020-06-30   -2.015748\n",
       "2020-07-31    0.150981\n",
       "2020-08-31    0.318921\n",
       "2020-09-30    0.357636\n",
       "2020-10-31   -0.957785\n",
       "Freq: M, dtype: float64"
      ]
     },
     "execution_count": 14,
     "metadata": {},
     "output_type": "execute_result"
    }
   ],
   "source": [
    "ts"
   ]
  },
  {
   "cell_type": "code",
   "execution_count": 13,
   "metadata": {},
   "outputs": [
    {
     "data": {
      "text/plain": [
       "2020-03-31   -1.703043\n",
       "2020-04-30   -0.875124\n",
       "2020-05-31    0.485793\n",
       "2020-06-30   -2.015748\n",
       "2020-07-31    0.150981\n",
       "Freq: M, dtype: float64"
      ]
     },
     "execution_count": 13,
     "metadata": {},
     "output_type": "execute_result"
    }
   ],
   "source": [
    "ts['2020-03-31': '2020-07-31']"
   ]
  },
  {
   "cell_type": "markdown",
   "metadata": {},
   "source": [
    "也可以用月的方式作索引操作"
   ]
  },
  {
   "cell_type": "code",
   "execution_count": 15,
   "metadata": {},
   "outputs": [
    {
     "data": {
      "text/plain": [
       "2020-02-29    1.113069\n",
       "2020-03-31   -1.703043\n",
       "2020-04-30   -0.875124\n",
       "2020-05-31    0.485793\n",
       "Freq: M, dtype: float64"
      ]
     },
     "execution_count": 15,
     "metadata": {},
     "output_type": "execute_result"
    }
   ],
   "source": [
    "ts['2020-02': '2020-05']"
   ]
  },
  {
   "cell_type": "markdown",
   "metadata": {},
   "source": [
    "移動 (shifting) 指的是沿著時間軸將資料前移或後移 。<br>\n",
    "Series 和 DataFrame 都有一個 .shift() 方法用於執行單純的移動操作。"
   ]
  },
  {
   "cell_type": "code",
   "execution_count": 16,
   "metadata": {},
   "outputs": [
    {
     "data": {
      "text/plain": [
       "2020-01-31   -0.275307\n",
       "2020-02-29    1.113069\n",
       "2020-03-31   -1.703043\n",
       "2020-04-30   -0.875124\n",
       "2020-05-31    0.485793\n",
       "2020-06-30   -2.015748\n",
       "2020-07-31    0.150981\n",
       "2020-08-31    0.318921\n",
       "2020-09-30    0.357636\n",
       "2020-10-31   -0.957785\n",
       "Freq: M, dtype: float64"
      ]
     },
     "execution_count": 16,
     "metadata": {},
     "output_type": "execute_result"
    }
   ],
   "source": [
    "ts"
   ]
  },
  {
   "cell_type": "code",
   "execution_count": 17,
   "metadata": {},
   "outputs": [
    {
     "data": {
      "text/plain": [
       "2020-02-02   -0.275307\n",
       "2020-03-02    1.113069\n",
       "2020-04-02   -1.703043\n",
       "2020-05-02   -0.875124\n",
       "2020-06-02    0.485793\n",
       "2020-07-02   -2.015748\n",
       "2020-08-02    0.150981\n",
       "2020-09-02    0.318921\n",
       "2020-10-02    0.357636\n",
       "2020-11-02   -0.957785\n",
       "dtype: float64"
      ]
     },
     "execution_count": 17,
     "metadata": {},
     "output_type": "execute_result"
    }
   ],
   "source": [
    "ts.shift(2, freq = 'D')"
   ]
  },
  {
   "cell_type": "markdown",
   "metadata": {},
   "source": [
    "分時間資料以及字串差別, 時間需要使用 pd.Timestamp() 做設定, 並不是只使用字串就可以代表時間。"
   ]
  },
  {
   "cell_type": "code",
   "execution_count": 18,
   "metadata": {},
   "outputs": [],
   "source": [
    "str_date = '2020-10-10'\n",
    "date = pd.Timestamp(2020,10,10)"
   ]
  },
  {
   "cell_type": "code",
   "execution_count": 19,
   "metadata": {},
   "outputs": [
    {
     "data": {
      "text/plain": [
       "('2020-10-10', str)"
      ]
     },
     "execution_count": 19,
     "metadata": {},
     "output_type": "execute_result"
    }
   ],
   "source": [
    "str_date, type(str_date)"
   ]
  },
  {
   "cell_type": "code",
   "execution_count": 20,
   "metadata": {},
   "outputs": [
    {
     "data": {
      "text/plain": [
       "(Timestamp('2020-10-10 00:00:00'), pandas._libs.tslibs.timestamps.Timestamp)"
      ]
     },
     "execution_count": 20,
     "metadata": {},
     "output_type": "execute_result"
    }
   ],
   "source": [
    "date, type(date)"
   ]
  },
  {
   "cell_type": "markdown",
   "metadata": {},
   "source": [
    "● 時間跟字串可以互相轉換<br>\n",
    "● 時間轉字串<br>\n",
    "● 字串轉時間"
   ]
  },
  {
   "cell_type": "code",
   "execution_count": 21,
   "metadata": {},
   "outputs": [
    {
     "data": {
      "text/plain": [
       "('2020-10-10', str)"
      ]
     },
     "execution_count": 21,
     "metadata": {},
     "output_type": "execute_result"
    }
   ],
   "source": [
    "date2str = date.strftime('%Y-%m-%d')\n",
    "date2str, type(date2str)"
   ]
  },
  {
   "cell_type": "code",
   "execution_count": 22,
   "metadata": {},
   "outputs": [
    {
     "data": {
      "text/plain": [
       "(Timestamp('2020-10-10 00:00:00'), pandas._libs.tslibs.timestamps.Timestamp)"
      ]
     },
     "execution_count": 22,
     "metadata": {},
     "output_type": "execute_result"
    }
   ],
   "source": [
    "str2date = pd.to_datetime(str_date)\n",
    "str2date, type(str2date)"
   ]
  },
  {
   "cell_type": "markdown",
   "metadata": {},
   "source": [
    "# 日期時間處理\n",
    "接下來介紹 timestamps 的常用函數<br>\n",
    "● 直接呼叫出年月日，在 timestamps 後面加上回傳的 year, monh, day 即可。"
   ]
  },
  {
   "cell_type": "code",
   "execution_count": 24,
   "metadata": {},
   "outputs": [
    {
     "data": {
      "text/plain": [
       "(2020, 10, 10)"
      ]
     },
     "execution_count": 24,
     "metadata": {},
     "output_type": "execute_result"
    }
   ],
   "source": [
    "date.year, date.month, date.day"
   ]
  },
  {
   "cell_type": "markdown",
   "metadata": {},
   "source": [
    "也可以呼叫星期與周數"
   ]
  },
  {
   "cell_type": "code",
   "execution_count": 25,
   "metadata": {},
   "outputs": [
    {
     "data": {
      "text/plain": [
       "('Saturday', 41)"
      ]
     },
     "execution_count": 25,
     "metadata": {},
     "output_type": "execute_result"
    }
   ],
   "source": [
    "date.day_name(), date.weekofyear"
   ]
  },
  {
   "cell_type": "markdown",
   "metadata": {},
   "source": [
    "● Timestamps 可以直接加時間或是計算時間差距"
   ]
  },
  {
   "cell_type": "code",
   "execution_count": 27,
   "metadata": {},
   "outputs": [],
   "source": [
    "date1 = pd.Timestamp(2020,10,10)\n",
    "date2 = pd.Timestamp(2020,11,10)"
   ]
  },
  {
   "cell_type": "code",
   "execution_count": 28,
   "metadata": {},
   "outputs": [
    {
     "data": {
      "text/plain": [
       "Timedelta('31 days 00:00:00')"
      ]
     },
     "execution_count": 28,
     "metadata": {},
     "output_type": "execute_result"
    }
   ],
   "source": [
    "date2 - date1"
   ]
  },
  {
   "cell_type": "code",
   "execution_count": 29,
   "metadata": {},
   "outputs": [
    {
     "data": {
      "text/plain": [
       "Timestamp('2020-10-11 00:00:00')"
      ]
     },
     "execution_count": 29,
     "metadata": {},
     "output_type": "execute_result"
    }
   ],
   "source": [
    "date1 + pd.Timedelta(days = 1)"
   ]
  },
  {
   "cell_type": "markdown",
   "metadata": {},
   "source": [
    "● 也可以加工作日天數"
   ]
  },
  {
   "cell_type": "code",
   "execution_count": 30,
   "metadata": {},
   "outputs": [
    {
     "data": {
      "text/plain": [
       "('Saturday', 'Tuesday')"
      ]
     },
     "execution_count": 30,
     "metadata": {},
     "output_type": "execute_result"
    }
   ],
   "source": [
    "two_business_days = 2 * pd.offsets.BDay()\n",
    "date1_add_two_business_days = date1 + two_business_days\n",
    "date1.day_name(), date1_add_two_business_days.day_name()"
   ]
  },
  {
   "cell_type": "code",
   "execution_count": null,
   "metadata": {},
   "outputs": [],
   "source": []
  }
 ],
 "metadata": {
  "kernelspec": {
   "display_name": "Python 3",
   "language": "python",
   "name": "python3"
  },
  "language_info": {
   "codemirror_mode": {
    "name": "ipython",
    "version": 3
   },
   "file_extension": ".py",
   "mimetype": "text/x-python",
   "name": "python",
   "nbconvert_exporter": "python",
   "pygments_lexer": "ipython3",
   "version": "3.7.6"
  }
 },
 "nbformat": 4,
 "nbformat_minor": 4
}
