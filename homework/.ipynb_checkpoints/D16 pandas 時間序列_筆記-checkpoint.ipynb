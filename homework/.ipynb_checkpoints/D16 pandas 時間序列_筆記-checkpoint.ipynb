{
 "cells": [
  {
   "cell_type": "markdown",
   "metadata": {},
   "source": [
    "# 重要知識點\n",
    "● 時間序列資料處理<br>\n",
    "● 日期時間處理"
   ]
  },
  {
   "cell_type": "markdown",
   "metadata": {},
   "source": [
    "# 時間序列資料處理\n",
    "● 所有資料中只要有時間關係就需要使用到時間序列的資料型態，因為資料之間是有時間關係的，資料之間的時間距離也不盡相同，例如右表，紅框內同樣差一個月，但是相差的天數不同<br>\n",
    "● 以每個月月底資料來檢視，這組資料並無缺值，但是以日資料來看，就缺了很多筆資料了<br>\n",
    "● 時間序列的資料非常注重時間的間隔"
   ]
  },
  {
   "cell_type": "markdown",
   "metadata": {},
   "source": [
    "範例目標:\n",
    "1. 實作時間序列操作\n",
    "2. 實作時間上的四則運算操作"
   ]
  },
  {
   "cell_type": "markdown",
   "metadata": {},
   "source": [
    "範例重點:\n",
    "1. 時間序列的資料非常注重時間的的間隔(年、月、日、時、分、秒)\n",
    "2. 時間也有分不同資料型態，在這邊使用 timestamps 的資料型態，須注意不同資料型態是不可以一起運算的。"
   ]
  },
  {
   "cell_type": "code",
   "execution_count": 2,
   "metadata": {},
   "outputs": [],
   "source": [
    "import pandas as pd\n",
    "import numpy as np"
   ]
  },
  {
   "cell_type": "code",
   "execution_count": 4,
   "metadata": {},
   "outputs": [
    {
     "data": {
      "text/plain": [
       "2020-01-31   -0.275307\n",
       "2020-02-29    1.113069\n",
       "2020-03-31   -1.703043\n",
       "2020-04-30   -0.875124\n",
       "2020-05-31    0.485793\n",
       "2020-06-30   -2.015748\n",
       "2020-07-31    0.150981\n",
       "2020-08-31    0.318921\n",
       "2020-09-30    0.357636\n",
       "2020-10-31   -0.957785\n",
       "Freq: M, dtype: float64"
      ]
     },
     "execution_count": 4,
     "metadata": {},
     "output_type": "execute_result"
    }
   ],
   "source": [
    "# 同樣差一個月，但是相差的天數不同\n",
    "# 所以時間序六的資料非常注重時間的間隔\n",
    "rng = pd.date_range('1/1/2020', periods = 10, freq = 'M')\n",
    "ts = pd.Series(np.random.randn(len(rng)), index = rng)\n",
    "ts"
   ]
  },
  {
   "cell_type": "markdown",
   "metadata": {},
   "source": [
    "既然時間間隔重要，那首先必須介紹控制時間長度的函數.to_period(), 參數 freq 代表時間頻率(Y:年、M:月、D:日、H:小時)"
   ]
  },
  {
   "cell_type": "code",
   "execution_count": 5,
   "metadata": {},
   "outputs": [
    {
     "data": {
      "text/plain": [
       "2020   -0.275307\n",
       "2020    1.113069\n",
       "2020   -1.703043\n",
       "2020   -0.875124\n",
       "2020    0.485793\n",
       "2020   -2.015748\n",
       "2020    0.150981\n",
       "2020    0.318921\n",
       "2020    0.357636\n",
       "2020   -0.957785\n",
       "Freq: A-DEC, dtype: float64"
      ]
     },
     "execution_count": 5,
     "metadata": {},
     "output_type": "execute_result"
    }
   ],
   "source": [
    "# 更改時間頻率:年\n",
    "ts.to_period(freq = 'Y')"
   ]
  },
  {
   "cell_type": "code",
   "execution_count": 6,
   "metadata": {},
   "outputs": [
    {
     "data": {
      "text/plain": [
       "2020-01   -0.275307\n",
       "2020-02    1.113069\n",
       "2020-03   -1.703043\n",
       "2020-04   -0.875124\n",
       "2020-05    0.485793\n",
       "2020-06   -2.015748\n",
       "2020-07    0.150981\n",
       "2020-08    0.318921\n",
       "2020-09    0.357636\n",
       "2020-10   -0.957785\n",
       "Freq: M, dtype: float64"
      ]
     },
     "execution_count": 6,
     "metadata": {},
     "output_type": "execute_result"
    }
   ],
   "source": [
    "# 更改時間頻率:月\n",
    "ts.to_period(freq = \"M\")"
   ]
  },
  {
   "cell_type": "code",
   "execution_count": 7,
   "metadata": {},
   "outputs": [
    {
     "data": {
      "text/plain": [
       "2020-01-31   -0.275307\n",
       "2020-02-29    1.113069\n",
       "2020-03-31   -1.703043\n",
       "2020-04-30   -0.875124\n",
       "2020-05-31    0.485793\n",
       "2020-06-30   -2.015748\n",
       "2020-07-31    0.150981\n",
       "2020-08-31    0.318921\n",
       "2020-09-30    0.357636\n",
       "2020-10-31   -0.957785\n",
       "Freq: D, dtype: float64"
      ]
     },
     "execution_count": 7,
     "metadata": {},
     "output_type": "execute_result"
    }
   ],
   "source": [
    "# 更改時間頻率: 月\n",
    "ts.to_period(freq = \"D\")"
   ]
  },
  {
   "cell_type": "code",
   "execution_count": 8,
   "metadata": {},
   "outputs": [
    {
     "data": {
      "text/plain": [
       "2020-01-31 00:00   -0.275307\n",
       "2020-02-29 00:00    1.113069\n",
       "2020-03-31 00:00   -1.703043\n",
       "2020-04-30 00:00   -0.875124\n",
       "2020-05-31 00:00    0.485793\n",
       "2020-06-30 00:00   -2.015748\n",
       "2020-07-31 00:00    0.150981\n",
       "2020-08-31 00:00    0.318921\n",
       "2020-09-30 00:00    0.357636\n",
       "2020-10-31 00:00   -0.957785\n",
       "Freq: H, dtype: float64"
      ]
     },
     "execution_count": 8,
     "metadata": {},
     "output_type": "execute_result"
    }
   ],
   "source": [
    "# 更改時間頻率: 日\n",
    "ts.to_period(freq = \"H\")"
   ]
  },
  {
   "cell_type": "markdown",
   "metadata": {},
   "source": [
    "更改時間頻率如果從年轉成季該怎麼做?<br>\n",
    "● 可以運用 resample 函數將年轉成季，如沒有值的填上 nan。"
   ]
  },
  {
   "cell_type": "code",
   "execution_count": 10,
   "metadata": {},
   "outputs": [
    {
     "data": {
      "text/plain": [
       "2018    1\n",
       "2019    2\n",
       "Freq: A-DEC, dtype: int64"
      ]
     },
     "execution_count": 10,
     "metadata": {},
     "output_type": "execute_result"
    }
   ],
   "source": [
    "s = pd.Series([1, 2], index = pd.period_range('2018-01-01', freq = 'Y', periods = 2))\n",
    "s"
   ]
  },
  {
   "cell_type": "code",
   "execution_count": 12,
   "metadata": {},
   "outputs": [
    {
     "data": {
      "text/plain": [
       "2018Q1    1.0\n",
       "2018Q2    NaN\n",
       "2018Q3    NaN\n",
       "2018Q4    NaN\n",
       "2019Q1    2.0\n",
       "2019Q2    NaN\n",
       "2019Q3    NaN\n",
       "2019Q4    NaN\n",
       "Freq: Q-DEC, dtype: float64"
      ]
     },
     "execution_count": 12,
     "metadata": {},
     "output_type": "execute_result"
    }
   ],
   "source": [
    "s.resample('Q', convention= 'start').asfreq()"
   ]
  },
  {
   "cell_type": "markdown",
   "metadata": {},
   "source": [
    "可以用先前學到的索引操作找到特定時間點的資料。"
   ]
  },
  {
   "cell_type": "code",
   "execution_count": null,
   "metadata": {},
   "outputs": [],
   "source": []
  },
  {
   "cell_type": "code",
   "execution_count": 13,
   "metadata": {},
   "outputs": [
    {
     "data": {
      "text/plain": [
       "2020-03-31   -1.703043\n",
       "2020-04-30   -0.875124\n",
       "2020-05-31    0.485793\n",
       "2020-06-30   -2.015748\n",
       "2020-07-31    0.150981\n",
       "Freq: M, dtype: float64"
      ]
     },
     "execution_count": 13,
     "metadata": {},
     "output_type": "execute_result"
    }
   ],
   "source": [
    "ts['2020-03-31': '2020-07-31']"
   ]
  },
  {
   "cell_type": "code",
   "execution_count": null,
   "metadata": {},
   "outputs": [],
   "source": []
  }
 ],
 "metadata": {
  "kernelspec": {
   "display_name": "Python 3",
   "language": "python",
   "name": "python3"
  },
  "language_info": {
   "codemirror_mode": {
    "name": "ipython",
    "version": 3
   },
   "file_extension": ".py",
   "mimetype": "text/x-python",
   "name": "python",
   "nbconvert_exporter": "python",
   "pygments_lexer": "ipython3",
   "version": "3.7.6"
  }
 },
 "nbformat": 4,
 "nbformat_minor": 4
}
