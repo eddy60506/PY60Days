{
 "cells": [
  {
   "cell_type": "markdown",
   "metadata": {
    "id": "rY2oyzUo2wKZ"
   },
   "source": [
    "作業目標:<br>\n",
    "嘗試練習log的函式並應用<br>\n",
    "作業重點:<br>\n",
    "學員需要複習log的轉換方式<br>\n",
    "熟悉運用指數函數以及對數函數"
   ]
  },
  {
   "cell_type": "markdown",
   "metadata": {
    "id": "Esjhs7zz2y95"
   },
   "source": [
    "題目:<br>\n",
    "運用投影片中的分貝公式回答下列問題。<br>\n",
    "1.正常的談話的聲壓為20000微巴斯卡，請問多少分貝?<br>\n",
    "2.30分貝的聲壓會是50分貝的幾倍?\n"
   ]
  },
  {
   "cell_type": "code",
   "execution_count": 2,
   "metadata": {
    "id": "SKVoN9E82yQi"
   },
   "outputs": [],
   "source": [
    "import numpy as np "
   ]
  },
  {
   "cell_type": "code",
   "execution_count": 7,
   "metadata": {
    "id": "knBzIEbisYO_"
   },
   "outputs": [
    {
     "name": "stdout",
     "output_type": "stream",
     "text": [
      "Ans: 60.0 分貝\n"
     ]
    }
   ],
   "source": [
    "#1.正常的談話的聲壓為20000微巴斯卡，請問多少分貝?\n",
    "#請寫下程式\n",
    "V1 = 20000\n",
    "V0 = 20\n",
    "# G(db) = 20 * log(V1/V0) (以10為基底)\n",
    "Gdb = 20*np.log10(V1/V0)\n",
    "print(\"Ans: \" + str(Gdb) + \" 分貝\")"
   ]
  },
  {
   "cell_type": "code",
   "execution_count": 14,
   "metadata": {
    "id": "5Vknqg8esbl_"
   },
   "outputs": [
    {
     "name": "stdout",
     "output_type": "stream",
     "text": [
      "30分貝的聲壓: 632.4555320336758\n",
      "50分貝的聲壓: 6324.555320336759\n",
      "Ans: 0.09999999999999999倍\n"
     ]
    }
   ],
   "source": [
    "#2.30分貝的聲壓會是50分貝的幾倍?\n",
    "#公式移項過後可以得到 V1 = ?\n",
    "#請寫下程式\n",
    "# G(db) = 20 * log(V1/V0)\n",
    "# G(db)/20 = log(V1) - log(V0)\n",
    "# log(V1) = G(db)/20 + log(V0) \n",
    "# V1 = 10 ** log(V0) + Gdb/20\n",
    "# a 的 logb 次方 = b 的 log 次方\n",
    "# V1 = V0 * 10 ** Gdb/20\n",
    "\n",
    "# 30分貝\n",
    "GdB = 30\n",
    "V0 = 20\n",
    "\n",
    "V1_30 = V0 * np.power(10, GdB/20)\n",
    "print(\"30分貝的聲壓: \" + str(V1_30))\n",
    "\n",
    "# 30分貝\n",
    "GdB = 50\n",
    "\n",
    "V1_50 = V0 * np.power(10, GdB/20)\n",
    "V1_50\n",
    "print(\"50分貝的聲壓: \" + str(V1_50))\n",
    "\n",
    "Ans = V1_30/V1_50\n",
    "\n",
    "print(\"Ans: \" + str(Ans) + \"倍\")"
   ]
  },
  {
   "cell_type": "code",
   "execution_count": null,
   "metadata": {
    "id": "LjGnv4Q-1t7u"
   },
   "outputs": [],
   "source": []
  }
 ],
 "metadata": {
  "colab": {
   "authorship_tag": "ABX9TyNuy8nFyZsCqfcHKKs2ys9H",
   "collapsed_sections": [],
   "name": "作業_Hong題目.ipynb",
   "provenance": []
  },
  "kernelspec": {
   "display_name": "Python 3",
   "language": "python",
   "name": "python3"
  },
  "language_info": {
   "codemirror_mode": {
    "name": "ipython",
    "version": 3
   },
   "file_extension": ".py",
   "mimetype": "text/x-python",
   "name": "python",
   "nbconvert_exporter": "python",
   "pygments_lexer": "ipython3",
   "version": "3.7.6"
  }
 },
 "nbformat": 4,
 "nbformat_minor": 1
}
