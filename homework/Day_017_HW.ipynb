{
 "cells": [
  {
   "cell_type": "markdown",
   "metadata": {},
   "source": [
    "作業目標:<br>\n",
    "● 了解效能優化方法"
   ]
  },
  {
   "cell_type": "markdown",
   "metadata": {},
   "source": [
    "作業重點:<br>\n",
    "● 優化有很多面向可以切入, 目前可以先以投影片方法為主"
   ]
  },
  {
   "cell_type": "markdown",
   "metadata": {},
   "source": [
    "作業題目:\n",
    "1. 在速度較慢的時候, 可以先從哪邊開始檢查?\n",
    "2. 資料過大時應採取什麼方式讓記憶體佔用量下降?"
   ]
  },
  {
   "cell_type": "markdown",
   "metadata": {},
   "source": [
    "1. 在速度較慢的時候, 可以先從哪邊開始檢查?<br>\n",
    "a. 檔案型態(ex: pkl檔速度較快)<br>\n",
    "b. 是否使用python內建函數(使用內建函數較快, agg() 也比 transform() 快)<br>\n",
    "c. 是否使用的是向量化的資料處理(EX: isin() 較快)"
   ]
  },
  {
   "cell_type": "markdown",
   "metadata": {},
   "source": [
    "2. 資料過大時應採取什麼方式讓記憶體佔用量下降?<br>\n",
    "降集(EX: int > uint)"
   ]
  },
  {
   "cell_type": "code",
   "execution_count": null,
   "metadata": {},
   "outputs": [],
   "source": []
  }
 ],
 "metadata": {
  "colab": {
   "authorship_tag": "ABX9TyMYL5XgdElX7UhbkU71zGse",
   "collapsed_sections": [],
   "name": "作業題目.ipynb",
   "provenance": []
  },
  "kernelspec": {
   "display_name": "Python 3",
   "language": "python",
   "name": "python3"
  },
  "language_info": {
   "codemirror_mode": {
    "name": "ipython",
    "version": 3
   },
   "file_extension": ".py",
   "mimetype": "text/x-python",
   "name": "python",
   "nbconvert_exporter": "python",
   "pygments_lexer": "ipython3",
   "version": "3.7.6"
  }
 },
 "nbformat": 4,
 "nbformat_minor": 1
}
