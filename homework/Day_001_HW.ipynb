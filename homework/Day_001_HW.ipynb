{
 "cells": [
  {
   "cell_type": "code",
   "execution_count": 1,
   "metadata": {},
   "outputs": [
    {
     "name": "stdout",
     "output_type": "stream",
     "text": [
      "[ 0  1  2  3  4  5  6  7  8  9 10 11 12 13 14 15 16 17 18 19]\n",
      "[ 0  2  4  6  8 10 12 14 16 18]\n",
      "[ 3  6  9 12 15 18]\n"
     ]
    }
   ],
   "source": [
    "# -*- coding: big5 -*-\n",
    "\"\"\"\n",
    "作業目標:\n",
    "在array中，可以靈活應用索引幫助資料擷取\n",
    "作業重點:\n",
    "陣列的索引、切片、以及屬性，皆需要注意使用方式\n",
    "陣列之中索引式由0開始請同學注意\n",
    "\n",
    "題目:<br>\n",
    "1.生成一個等差數列，首數為0，尾數為20，公差為1的數列。<br>\n",
    "2.呈上題，將以上數列取出偶數。<br>\n",
    "3.呈1題，將數列取出3的倍數。<br>\n",
    "\"\"\"\n",
    "\n",
    "import numpy as np\n",
    "#1.生成一個等差數列，首數為0，尾數為20，公差為1的數列。\n",
    "a = np.arange(0,20,1)\n",
    "print(a)\n",
    "\n",
    "#2.呈上題，將以上數列取出偶數。\n",
    "\n",
    "a = np.arange(0,20,2)\n",
    "print(a)\n",
    "\n",
    "#3.呈1題，將數列取出3的倍數。\n",
    "\n",
    "a = np.arange(3,20,3)\n",
    "print(a)"
   ]
  }
 ],
 "metadata": {
  "kernelspec": {
   "display_name": "Python 3",
   "language": "python",
   "name": "python3"
  },
  "language_info": {
   "codemirror_mode": {
    "name": "ipython",
    "version": 3
   },
   "file_extension": ".py",
   "mimetype": "text/x-python",
   "name": "python",
   "nbconvert_exporter": "python",
   "pygments_lexer": "ipython3",
   "version": "3.7.6"
  }
 },
 "nbformat": 4,
 "nbformat_minor": 4
}
